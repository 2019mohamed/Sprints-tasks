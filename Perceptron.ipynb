{
  "nbformat": 4,
  "nbformat_minor": 0,
  "metadata": {
    "colab": {
      "name": "Perceptron.ipynb",
      "provenance": [],
      "authorship_tag": "ABX9TyNiAII5/L6KANuAGafvjdGw",
      "include_colab_link": true
    },
    "kernelspec": {
      "name": "python3",
      "display_name": "Python 3"
    },
    "language_info": {
      "name": "python"
    }
  },
  "cells": [
    {
      "cell_type": "markdown",
      "metadata": {
        "id": "view-in-github",
        "colab_type": "text"
      },
      "source": [
        "<a href=\"https://colab.research.google.com/github/2019mohamed/Sprints-tasks/blob/main/Perceptron.ipynb\" target=\"_parent\"><img src=\"https://colab.research.google.com/assets/colab-badge.svg\" alt=\"Open In Colab\"/></a>"
      ]
    },
    {
      "cell_type": "code",
      "metadata": {
        "colab": {
          "base_uri": "https://localhost:8080/",
          "height": 283
        },
        "id": "1e1AjdkfN46X",
        "outputId": "ba52d074-dfa3-4612-e226-b26f87233055"
      },
      "source": [
        "from sklearn.datasets import make_classification\n",
        "from sklearn.decomposition import PCA\n",
        "import matplotlib.pyplot as plt\n",
        "import numpy as np\n",
        "\n",
        "X, y  = make_classification(n_samples = 20 , n_features = 20, n_classes = 2)\n",
        "X = PCA(n_components=2).fit_transform(X)\n",
        "plt.scatter(X[:,0], X[:,1], c = y)"
      ],
      "execution_count": 157,
      "outputs": [
        {
          "output_type": "execute_result",
          "data": {
            "text/plain": [
              "<matplotlib.collections.PathCollection at 0x7f6626374210>"
            ]
          },
          "metadata": {},
          "execution_count": 157
        },
        {
          "output_type": "display_data",
          "data": {
            "image/png": "[encoded data removed]",
            "text/plain": [
              "<Figure size 432x288 with 1 Axes>"
            ]
          },
          "metadata": {
            "needs_background": "light"
          }
        }
      ]
    },
    {
      "cell_type": "code",
      "metadata": {
        "colab": {
          "base_uri": "https://localhost:8080/",
          "height": 299
        },
        "id": "NC5fDgvibT-V",
        "outputId": "789458b6-fd7d-40a1-d084-36ae0be983b9"
      },
      "source": [
        "def signum (x):\n",
        "  if x > 0:\n",
        "    return 1\n",
        "  elif x == 0:\n",
        "    return 0\n",
        "  return -1\n",
        "\n",
        "def train(X ,y, eta = 0.1 , iter = 50):\n",
        "  W = np.random.rand(1,2)\n",
        "  #b = np.random.rand(1,1)\n",
        "  b= 1\n",
        "  X = np.array(X)\n",
        "  X = np.array(X)\n",
        "  loss = 0\n",
        "  while loss < 0.001:\n",
        "    for i,x in enumerate(X):\n",
        "      y_hat = signum(np.dot(W , x) + b)\n",
        "      L = y[i] - y_hat\n",
        "      loss += L\n",
        "      W = W + eta * L * x\n",
        "    loss /= len(X)\n",
        "  return W,b\n",
        "\n",
        "def test (W , b , X):\n",
        "  l = []\n",
        "  for x in X:\n",
        "    l.append(signum(np.dot(W , x) + b))\n",
        "  l = [0 if i <= -1 else i for i in l ]\n",
        "  return l\n",
        "\n",
        "from sklearn.model_selection import train_test_split\n",
        "from sklearn.metrics import accuracy_score\n",
        "X_train, X_test, y_train, y_test = train_test_split(X, y, test_size=0.33, random_state=42)\n",
        "W, b = train(X_train, y_train, eta = 0.5 , iter = 100)\n",
        "l = test(W, b ,X_test)\n",
        "print('predicted :', l,' truth: ',y_test)\n",
        "print('Ac: ', accuracy_score(l ,y_test))\n",
        "\n",
        "W = W[0]\n",
        "plt.scatter(X_test[:,0], X_test[:,1], c = y_test)\n",
        "\n",
        "for i in range(-5,10):\n",
        "  slope = -(b / W[1]) / (b / W[0])\n",
        "  intercept = -b / W[1]\n",
        "  plt.plot(i , slope * i + intercept, '.')\n",
        "\n",
        "#plt.show()\n",
        "\n",
        "\n"
      ],
      "execution_count": 158,
      "outputs": [
        {
          "output_type": "stream",
          "name": "stdout",
          "text": [
            "predicted : [0, 1, 1, 1, 0, 0, 1]  truth:  [0 1 1 0 0 0 1]\n",
            "Ac:  0.8571428571428571\n"
          ]
        },
        {
          "output_type": "display_data",
          "data": {
            "image/png": "[encoded data removed]",
            "text/plain": [
              "<Figure size 432x288 with 1 Axes>"
            ]
          },
          "metadata": {
            "needs_background": "light"
          }
        }
      ]
    }
  ]
}