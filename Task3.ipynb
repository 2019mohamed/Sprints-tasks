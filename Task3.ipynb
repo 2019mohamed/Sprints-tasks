{
  "nbformat": 4,
  "nbformat_minor": 0,
  "metadata": {
    "colab": {
      "name": "Task3.ipynb",
      "provenance": [],
      "authorship_tag": "ABX9TyO5qltB7k4BjQ6xOnJXRd+x",
      "include_colab_link": true
    },
    "kernelspec": {
      "name": "python3",
      "display_name": "Python 3"
    },
    "language_info": {
      "name": "python"
    }
  },
  "cells": [
    {
      "cell_type": "markdown",
      "metadata": {
        "id": "view-in-github",
        "colab_type": "text"
      },
      "source": [
        "<a href=\"https://colab.research.google.com/github/2019mohamed/Sprints-tasks/blob/main/Task3.ipynb\" target=\"_parent\"><img src=\"https://colab.research.google.com/assets/colab-badge.svg\" alt=\"Open In Colab\"/></a>"
      ]
    },
    {
      "cell_type": "code",
      "metadata": {
        "colab": {
          "base_uri": "https://localhost:8080/"
        },
        "id": "DwB4dYFvaAIF",
        "outputId": "3f33bf00-b049-4957-d2c8-9aa6c3e9c22d"
      },
      "source": [
        "from sklearn.svm import SVR\n",
        "from sklearn.model_selection import GridSearchCV\n",
        "from sklearn.datasets import load_diabetes\n",
        "from sklearn.model_selection import train_test_split\n",
        "import matplotlib.pyplot as plt\n",
        "\n",
        "dataset = load_diabetes()\n",
        "X, y = dataset.data , dataset.target\n",
        "X_train, X_test, y_train, y_test = train_test_split( X, y, test_size=0.3, random_state=42)\n",
        "\n",
        "svr = SVR()\n",
        "parameters = {'kernel':('linear', 'poly', 'rbf', 'sigmoid'), 'C': list(range(1,11))}\n",
        "clf = GridSearchCV(svr, parameters)\n",
        "clf.fit(X_train ,y_train)\n",
        "print(clf.best_estimator_)\n",
        "print(clf.score(X_test ,y_test))"
      ],
      "execution_count": 1,
      "outputs": [
        {
          "output_type": "stream",
          "name": "stdout",
          "text": [
            "SVR(C=9, cache_size=200, coef0=0.0, degree=3, epsilon=0.1, gamma='scale',\n",
            "    kernel='sigmoid', max_iter=-1, shrinking=True, tol=0.001, verbose=False)\n",
            "0.4822339784157039\n"
          ]
        }
      ]
    }
  ]
}